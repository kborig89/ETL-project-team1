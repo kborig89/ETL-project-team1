{
 "metadata": {
  "language_info": {
   "codemirror_mode": {
    "name": "ipython",
    "version": 3
   },
   "file_extension": ".py",
   "mimetype": "text/x-python",
   "name": "python",
   "nbconvert_exporter": "python",
   "pygments_lexer": "ipython3",
   "version": "3.8.3-final"
  },
  "orig_nbformat": 2,
  "kernelspec": {
   "name": "python3",
   "display_name": "Python 3"
  }
 },
 "nbformat": 4,
 "nbformat_minor": 2,
 "cells": [
  {
   "cell_type": "code",
   "execution_count": 5,
   "metadata": {},
   "outputs": [],
   "source": [
    "import pandas as pd\n",
    "from sqlalchemy import create_engine\n",
    "import codecs"
   ]
  },
  {
   "cell_type": "code",
   "execution_count": 58,
   "metadata": {},
   "outputs": [
    {
     "output_type": "execute_result",
     "data": {
      "text/plain": [
       "  set_num                        name  year  theme_id  num_parts\n",
       "0   001-1                       Gears  1965         1         43\n",
       "1  0011-2           Town Mini-Figures  1978        84         12\n",
       "2  0011-3  Castle 2 for 1 Bonus Offer  1987       199          0\n",
       "3  0012-1          Space Mini-Figures  1979       143         12\n",
       "4  0013-1          Space Mini-Figures  1979       143         12"
      ],
      "text/html": "<div>\n<style scoped>\n    .dataframe tbody tr th:only-of-type {\n        vertical-align: middle;\n    }\n\n    .dataframe tbody tr th {\n        vertical-align: top;\n    }\n\n    .dataframe thead th {\n        text-align: right;\n    }\n</style>\n<table border=\"1\" class=\"dataframe\">\n  <thead>\n    <tr style=\"text-align: right;\">\n      <th></th>\n      <th>set_num</th>\n      <th>name</th>\n      <th>year</th>\n      <th>theme_id</th>\n      <th>num_parts</th>\n    </tr>\n  </thead>\n  <tbody>\n    <tr>\n      <th>0</th>\n      <td>001-1</td>\n      <td>Gears</td>\n      <td>1965</td>\n      <td>1</td>\n      <td>43</td>\n    </tr>\n    <tr>\n      <th>1</th>\n      <td>0011-2</td>\n      <td>Town Mini-Figures</td>\n      <td>1978</td>\n      <td>84</td>\n      <td>12</td>\n    </tr>\n    <tr>\n      <th>2</th>\n      <td>0011-3</td>\n      <td>Castle 2 for 1 Bonus Offer</td>\n      <td>1987</td>\n      <td>199</td>\n      <td>0</td>\n    </tr>\n    <tr>\n      <th>3</th>\n      <td>0012-1</td>\n      <td>Space Mini-Figures</td>\n      <td>1979</td>\n      <td>143</td>\n      <td>12</td>\n    </tr>\n    <tr>\n      <th>4</th>\n      <td>0013-1</td>\n      <td>Space Mini-Figures</td>\n      <td>1979</td>\n      <td>143</td>\n      <td>12</td>\n    </tr>\n  </tbody>\n</table>\n</div>"
     },
     "metadata": {},
     "execution_count": 58
    }
   ],
   "source": [
    "sets__2020_csv = \"sets.csv\"\n",
    "sets_2020_db = pd.read_csv(sets__2020_csv)\n",
    "\n",
    "sets_2020_db.head()"
   ]
  },
  {
   "cell_type": "code",
   "execution_count": 28,
   "metadata": {},
   "outputs": [
    {
     "output_type": "execute_result",
     "data": {
      "text/plain": [
       "    id                        name  year\n",
       "0    1                       Gears  1965\n",
       "1   84           Town Mini-Figures  1978\n",
       "2  199  Castle 2 for 1 Bonus Offer  1987\n",
       "3  143          Space Mini-Figures  1979\n",
       "4  143          Space Mini-Figures  1979"
      ],
      "text/html": "<div>\n<style scoped>\n    .dataframe tbody tr th:only-of-type {\n        vertical-align: middle;\n    }\n\n    .dataframe tbody tr th {\n        vertical-align: top;\n    }\n\n    .dataframe thead th {\n        text-align: right;\n    }\n</style>\n<table border=\"1\" class=\"dataframe\">\n  <thead>\n    <tr style=\"text-align: right;\">\n      <th></th>\n      <th>id</th>\n      <th>name</th>\n      <th>year</th>\n    </tr>\n  </thead>\n  <tbody>\n    <tr>\n      <th>0</th>\n      <td>1</td>\n      <td>Gears</td>\n      <td>1965</td>\n    </tr>\n    <tr>\n      <th>1</th>\n      <td>84</td>\n      <td>Town Mini-Figures</td>\n      <td>1978</td>\n    </tr>\n    <tr>\n      <th>2</th>\n      <td>199</td>\n      <td>Castle 2 for 1 Bonus Offer</td>\n      <td>1987</td>\n    </tr>\n    <tr>\n      <th>3</th>\n      <td>143</td>\n      <td>Space Mini-Figures</td>\n      <td>1979</td>\n    </tr>\n    <tr>\n      <th>4</th>\n      <td>143</td>\n      <td>Space Mini-Figures</td>\n      <td>1979</td>\n    </tr>\n  </tbody>\n</table>\n</div>"
     },
     "metadata": {},
     "execution_count": 28
    }
   ],
   "source": [
    "sets_clean_20_db = sets_2020_db[['theme_id', 'name', 'year']].copy()\n",
    "sets_clean_20_db.rename(columns={\"theme_id\" :\"id\"},inplace=True)\n",
    "sets_clean_20_db.head()"
   ]
  },
  {
   "cell_type": "code",
   "execution_count": 22,
   "metadata": {},
   "outputs": [
    {
     "output_type": "execute_result",
     "data": {
      "text/plain": [
       "   id            name  parent_id\n",
       "0   1         Technic        NaN\n",
       "1   2  Arctic Technic        1.0\n",
       "2   3     Competition        1.0\n",
       "3   4  Expert Builder        1.0\n",
       "4   5           Model        1.0"
      ],
      "text/html": "<div>\n<style scoped>\n    .dataframe tbody tr th:only-of-type {\n        vertical-align: middle;\n    }\n\n    .dataframe tbody tr th {\n        vertical-align: top;\n    }\n\n    .dataframe thead th {\n        text-align: right;\n    }\n</style>\n<table border=\"1\" class=\"dataframe\">\n  <thead>\n    <tr style=\"text-align: right;\">\n      <th></th>\n      <th>id</th>\n      <th>name</th>\n      <th>parent_id</th>\n    </tr>\n  </thead>\n  <tbody>\n    <tr>\n      <th>0</th>\n      <td>1</td>\n      <td>Technic</td>\n      <td>NaN</td>\n    </tr>\n    <tr>\n      <th>1</th>\n      <td>2</td>\n      <td>Arctic Technic</td>\n      <td>1.0</td>\n    </tr>\n    <tr>\n      <th>2</th>\n      <td>3</td>\n      <td>Competition</td>\n      <td>1.0</td>\n    </tr>\n    <tr>\n      <th>3</th>\n      <td>4</td>\n      <td>Expert Builder</td>\n      <td>1.0</td>\n    </tr>\n    <tr>\n      <th>4</th>\n      <td>5</td>\n      <td>Model</td>\n      <td>1.0</td>\n    </tr>\n  </tbody>\n</table>\n</div>"
     },
     "metadata": {},
     "execution_count": 22
    }
   ],
   "source": [
    "thems_2020_csv = \"themes.csv\"\n",
    "thems_2020_db =pd.read_csv(thems_2020_csv)\n",
    "thems_2020_db.head()"
   ]
  },
  {
   "cell_type": "code",
   "execution_count": 30,
   "metadata": {},
   "outputs": [
    {
     "output_type": "execute_result",
     "data": {
      "text/plain": [
       "   id                          name_x  year   name_y  parent_id\n",
       "0   1                           Gears  1965  Technic        NaN\n",
       "1   1  4.5V Samsonite Gears Motor Set  1965  Technic        NaN\n",
       "2   1  TECHNIC I: Simple Machines Set  1985  Technic        NaN\n",
       "3   1              ERBIE the Robo-Car  1985  Technic        NaN\n",
       "4   1            Manual Control Set 1  1986  Technic        NaN"
      ],
      "text/html": "<div>\n<style scoped>\n    .dataframe tbody tr th:only-of-type {\n        vertical-align: middle;\n    }\n\n    .dataframe tbody tr th {\n        vertical-align: top;\n    }\n\n    .dataframe thead th {\n        text-align: right;\n    }\n</style>\n<table border=\"1\" class=\"dataframe\">\n  <thead>\n    <tr style=\"text-align: right;\">\n      <th></th>\n      <th>id</th>\n      <th>name_x</th>\n      <th>year</th>\n      <th>name_y</th>\n      <th>parent_id</th>\n    </tr>\n  </thead>\n  <tbody>\n    <tr>\n      <th>0</th>\n      <td>1</td>\n      <td>Gears</td>\n      <td>1965</td>\n      <td>Technic</td>\n      <td>NaN</td>\n    </tr>\n    <tr>\n      <th>1</th>\n      <td>1</td>\n      <td>4.5V Samsonite Gears Motor Set</td>\n      <td>1965</td>\n      <td>Technic</td>\n      <td>NaN</td>\n    </tr>\n    <tr>\n      <th>2</th>\n      <td>1</td>\n      <td>TECHNIC I: Simple Machines Set</td>\n      <td>1985</td>\n      <td>Technic</td>\n      <td>NaN</td>\n    </tr>\n    <tr>\n      <th>3</th>\n      <td>1</td>\n      <td>ERBIE the Robo-Car</td>\n      <td>1985</td>\n      <td>Technic</td>\n      <td>NaN</td>\n    </tr>\n    <tr>\n      <th>4</th>\n      <td>1</td>\n      <td>Manual Control Set 1</td>\n      <td>1986</td>\n      <td>Technic</td>\n      <td>NaN</td>\n    </tr>\n  </tbody>\n</table>\n</div>"
     },
     "metadata": {},
     "execution_count": 30
    }
   ],
   "source": [
    "\n",
    "join_2020=sets_clean_20_db.merge(thems_2020_db, on=\"id\")\n",
    "join_2020.head()\n",
    "\n"
   ]
  },
  {
   "cell_type": "code",
   "execution_count": 36,
   "metadata": {},
   "outputs": [
    {
     "output_type": "execute_result",
     "data": {
      "text/plain": [
       "   id                        Set Name  Set Year Theme Name\n",
       "0   1                           Gears      1965    Technic\n",
       "1   1  4.5V Samsonite Gears Motor Set      1965    Technic\n",
       "2   1  TECHNIC I: Simple Machines Set      1985    Technic\n",
       "3   1              ERBIE the Robo-Car      1985    Technic\n",
       "4   1            Manual Control Set 1      1986    Technic"
      ],
      "text/html": "<div>\n<style scoped>\n    .dataframe tbody tr th:only-of-type {\n        vertical-align: middle;\n    }\n\n    .dataframe tbody tr th {\n        vertical-align: top;\n    }\n\n    .dataframe thead th {\n        text-align: right;\n    }\n</style>\n<table border=\"1\" class=\"dataframe\">\n  <thead>\n    <tr style=\"text-align: right;\">\n      <th></th>\n      <th>id</th>\n      <th>Set Name</th>\n      <th>Set Year</th>\n      <th>Theme Name</th>\n    </tr>\n  </thead>\n  <tbody>\n    <tr>\n      <th>0</th>\n      <td>1</td>\n      <td>Gears</td>\n      <td>1965</td>\n      <td>Technic</td>\n    </tr>\n    <tr>\n      <th>1</th>\n      <td>1</td>\n      <td>4.5V Samsonite Gears Motor Set</td>\n      <td>1965</td>\n      <td>Technic</td>\n    </tr>\n    <tr>\n      <th>2</th>\n      <td>1</td>\n      <td>TECHNIC I: Simple Machines Set</td>\n      <td>1985</td>\n      <td>Technic</td>\n    </tr>\n    <tr>\n      <th>3</th>\n      <td>1</td>\n      <td>ERBIE the Robo-Car</td>\n      <td>1985</td>\n      <td>Technic</td>\n    </tr>\n    <tr>\n      <th>4</th>\n      <td>1</td>\n      <td>Manual Control Set 1</td>\n      <td>1986</td>\n      <td>Technic</td>\n    </tr>\n  </tbody>\n</table>\n</div>"
     },
     "metadata": {},
     "execution_count": 36
    }
   ],
   "source": [
    "clean_join_2020 = join_2020[['id', 'Set Name', 'year','Theme Name']].copy()\n",
    "clean_join_2020.rename(columns={\"year\" :\"Set Year\"},inplace=True)\n",
    "clean_join_2020.head()"
   ]
  },
  {
   "cell_type": "code",
   "execution_count": 44,
   "metadata": {},
   "outputs": [
    {
     "output_type": "execute_result",
     "data": {
      "text/plain": [
       "   Inventory ID Part Number  Color ID             Color Transparent Brick  \\\n",
       "0             1    48379c01        72  Dark Bluish Gray                 f   \n",
       "1             1       48395         7        Light Gray                 f   \n",
       "2             1    mcsport6        25            Orange                 f   \n",
       "\n",
       "   Quantity Spare Parts Set Number  \\\n",
       "0         1           f     7922-1   \n",
       "1         1           f     7922-1   \n",
       "2         1           f     7922-1   \n",
       "\n",
       "                                           Part Name        Part Category  \\\n",
       "0                 Sports Promo Figure Base with Feet  Minifig Accessories   \n",
       "1  Sports Promo Snowboard from McDonald's Sports ...  Minifig Accessories   \n",
       "2  Sports Promo Figure Head Torso Assembly McDona...             Minifigs   \n",
       "\n",
       "                                            Set Name   Set Category  \\\n",
       "0  McDonald's Sports Set Number 6 - Orange Vest S...  Gravity Games   \n",
       "1  McDonald's Sports Set Number 6 - Orange Vest S...  Gravity Games   \n",
       "2  McDonald's Sports Set Number 6 - Orange Vest S...  Gravity Games   \n",
       "\n",
       "  Set Subcategory  Set Year  \n",
       "0          Sports      2004  \n",
       "1          Sports      2004  \n",
       "2          Sports      2004  "
      ],
      "text/html": "<div>\n<style scoped>\n    .dataframe tbody tr th:only-of-type {\n        vertical-align: middle;\n    }\n\n    .dataframe tbody tr th {\n        vertical-align: top;\n    }\n\n    .dataframe thead th {\n        text-align: right;\n    }\n</style>\n<table border=\"1\" class=\"dataframe\">\n  <thead>\n    <tr style=\"text-align: right;\">\n      <th></th>\n      <th>Inventory ID</th>\n      <th>Part Number</th>\n      <th>Color ID</th>\n      <th>Color</th>\n      <th>Transparent Brick</th>\n      <th>Quantity</th>\n      <th>Spare Parts</th>\n      <th>Set Number</th>\n      <th>Part Name</th>\n      <th>Part Category</th>\n      <th>Set Name</th>\n      <th>Set Category</th>\n      <th>Set Subcategory</th>\n      <th>Set Year</th>\n    </tr>\n  </thead>\n  <tbody>\n    <tr>\n      <th>0</th>\n      <td>1</td>\n      <td>48379c01</td>\n      <td>72</td>\n      <td>Dark Bluish Gray</td>\n      <td>f</td>\n      <td>1</td>\n      <td>f</td>\n      <td>7922-1</td>\n      <td>Sports Promo Figure Base with Feet</td>\n      <td>Minifig Accessories</td>\n      <td>McDonald's Sports Set Number 6 - Orange Vest S...</td>\n      <td>Gravity Games</td>\n      <td>Sports</td>\n      <td>2004</td>\n    </tr>\n    <tr>\n      <th>1</th>\n      <td>1</td>\n      <td>48395</td>\n      <td>7</td>\n      <td>Light Gray</td>\n      <td>f</td>\n      <td>1</td>\n      <td>f</td>\n      <td>7922-1</td>\n      <td>Sports Promo Snowboard from McDonald's Sports ...</td>\n      <td>Minifig Accessories</td>\n      <td>McDonald's Sports Set Number 6 - Orange Vest S...</td>\n      <td>Gravity Games</td>\n      <td>Sports</td>\n      <td>2004</td>\n    </tr>\n    <tr>\n      <th>2</th>\n      <td>1</td>\n      <td>mcsport6</td>\n      <td>25</td>\n      <td>Orange</td>\n      <td>f</td>\n      <td>1</td>\n      <td>f</td>\n      <td>7922-1</td>\n      <td>Sports Promo Figure Head Torso Assembly McDona...</td>\n      <td>Minifigs</td>\n      <td>McDonald's Sports Set Number 6 - Orange Vest S...</td>\n      <td>Gravity Games</td>\n      <td>Sports</td>\n      <td>2004</td>\n    </tr>\n  </tbody>\n</table>\n</div>"
     },
     "metadata": {},
     "execution_count": 44
    }
   ],
   "source": [
    "sets_1950_csv = \"sets_1950_2017.csv\"\n",
    "sets_1950_db =pd.read_csv(sets_1950_csv,encoding='latin-1')\n",
    "sets_1950_db.head(3)"
   ]
  },
  {
   "cell_type": "code",
   "execution_count": 13,
   "metadata": {},
   "outputs": [
    {
     "output_type": "execute_result",
     "data": {
      "text/plain": [
       "   Inventory ID                                           Set Name  Set Year  \\\n",
       "0             1  McDonald's Sports Set Number 6 - Orange Vest S...      2004   \n",
       "1             1  McDonald's Sports Set Number 6 - Orange Vest S...      2004   \n",
       "2             1  McDonald's Sports Set Number 6 - Orange Vest S...      2004   \n",
       "3             1  McDonald's Sports Set Number 6 - Orange Vest S...      2004   \n",
       "4             3                                 Emma's Splash Pool      2012   \n",
       "\n",
       "    Set Category  \n",
       "0  Gravity Games  \n",
       "1  Gravity Games  \n",
       "2  Gravity Games  \n",
       "3  Gravity Games  \n",
       "4        Friends  "
      ],
      "text/html": "<div>\n<style scoped>\n    .dataframe tbody tr th:only-of-type {\n        vertical-align: middle;\n    }\n\n    .dataframe tbody tr th {\n        vertical-align: top;\n    }\n\n    .dataframe thead th {\n        text-align: right;\n    }\n</style>\n<table border=\"1\" class=\"dataframe\">\n  <thead>\n    <tr style=\"text-align: right;\">\n      <th></th>\n      <th>Inventory ID</th>\n      <th>Set Name</th>\n      <th>Set Year</th>\n      <th>Set Category</th>\n    </tr>\n  </thead>\n  <tbody>\n    <tr>\n      <th>0</th>\n      <td>1</td>\n      <td>McDonald's Sports Set Number 6 - Orange Vest S...</td>\n      <td>2004</td>\n      <td>Gravity Games</td>\n    </tr>\n    <tr>\n      <th>1</th>\n      <td>1</td>\n      <td>McDonald's Sports Set Number 6 - Orange Vest S...</td>\n      <td>2004</td>\n      <td>Gravity Games</td>\n    </tr>\n    <tr>\n      <th>2</th>\n      <td>1</td>\n      <td>McDonald's Sports Set Number 6 - Orange Vest S...</td>\n      <td>2004</td>\n      <td>Gravity Games</td>\n    </tr>\n    <tr>\n      <th>3</th>\n      <td>1</td>\n      <td>McDonald's Sports Set Number 6 - Orange Vest S...</td>\n      <td>2004</td>\n      <td>Gravity Games</td>\n    </tr>\n    <tr>\n      <th>4</th>\n      <td>3</td>\n      <td>Emma's Splash Pool</td>\n      <td>2012</td>\n      <td>Friends</td>\n    </tr>\n  </tbody>\n</table>\n</div>"
     },
     "metadata": {},
     "execution_count": 13
    }
   ],
   "source": [
    "sets_clean_1950_db = sets_1950_db[['Inventory ID','Set Name', 'Set Year','Set Category']].copy()\n",
    "sets_clean_1950_db.head()"
   ]
  },
  {
   "cell_type": "code",
   "execution_count": 38,
   "metadata": {},
   "outputs": [
    {
     "output_type": "execute_result",
     "data": {
      "text/plain": [
       "       Inventory ID                                     Set Name  Set Year  \\\n",
       "18594           537  Individual 1 x 2 x 3 Window (without glass)      1950   \n",
       "18595           537  Individual 1 x 2 x 3 Window (without glass)      1950   \n",
       "18596           537  Individual 1 x 2 x 3 Window (without glass)      1950   \n",
       "18597           537  Individual 1 x 2 x 3 Window (without glass)      1950   \n",
       "18598           537  Individual 1 x 2 x 3 Window (without glass)      1950   \n",
       "\n",
       "         Theme Name  \n",
       "18594  Supplemental  \n",
       "18595  Supplemental  \n",
       "18596  Supplemental  \n",
       "18597  Supplemental  \n",
       "18598  Supplemental  "
      ],
      "text/html": "<div>\n<style scoped>\n    .dataframe tbody tr th:only-of-type {\n        vertical-align: middle;\n    }\n\n    .dataframe tbody tr th {\n        vertical-align: top;\n    }\n\n    .dataframe thead th {\n        text-align: right;\n    }\n</style>\n<table border=\"1\" class=\"dataframe\">\n  <thead>\n    <tr style=\"text-align: right;\">\n      <th></th>\n      <th>Inventory ID</th>\n      <th>Set Name</th>\n      <th>Set Year</th>\n      <th>Theme Name</th>\n    </tr>\n  </thead>\n  <tbody>\n    <tr>\n      <th>18594</th>\n      <td>537</td>\n      <td>Individual 1 x 2 x 3 Window (without glass)</td>\n      <td>1950</td>\n      <td>Supplemental</td>\n    </tr>\n    <tr>\n      <th>18595</th>\n      <td>537</td>\n      <td>Individual 1 x 2 x 3 Window (without glass)</td>\n      <td>1950</td>\n      <td>Supplemental</td>\n    </tr>\n    <tr>\n      <th>18596</th>\n      <td>537</td>\n      <td>Individual 1 x 2 x 3 Window (without glass)</td>\n      <td>1950</td>\n      <td>Supplemental</td>\n    </tr>\n    <tr>\n      <th>18597</th>\n      <td>537</td>\n      <td>Individual 1 x 2 x 3 Window (without glass)</td>\n      <td>1950</td>\n      <td>Supplemental</td>\n    </tr>\n    <tr>\n      <th>18598</th>\n      <td>537</td>\n      <td>Individual 1 x 2 x 3 Window (without glass)</td>\n      <td>1950</td>\n      <td>Supplemental</td>\n    </tr>\n  </tbody>\n</table>\n</div>"
     },
     "metadata": {},
     "execution_count": 38
    }
   ],
   "source": [
    "sets_1950_=sets_clean_1950_db.loc[sets_clean_1950_db[\"Set Year\"]==1950]\n",
    "sets_1950_.rename(columns={\"Set Category\" :\"Theme Name\"},inplace=True)\n",
    "sets_1950_.head()"
   ]
  },
  {
   "cell_type": "code",
   "execution_count": 59,
   "metadata": {},
   "outputs": [
    {
     "output_type": "execute_result",
     "data": {
      "text/plain": [
       "       id                                     Set Name  Set Year    Theme Name\n",
       "1530  371                     Single 2 x 4 Brick (ABB)      1950  Supplemental\n",
       "1531  371                     Single 2 x 2 Brick (ABB)      1950  Supplemental\n",
       "1540  371  Single 1 x 4 x 2 Window without Glass (ABB)      1950  Supplemental\n",
       "1541  371  Single 1 x 2 x 3 Window without Glass (ABB)      1950  Supplemental\n",
       "1542  371  Single 1 x 2 x 2 Window without Glass (ABB)      1950  Supplemental\n",
       "1543  371    Single 1 x 2 x 4 Door without Glass (ABB)      1950  Supplemental"
      ],
      "text/html": "<div>\n<style scoped>\n    .dataframe tbody tr th:only-of-type {\n        vertical-align: middle;\n    }\n\n    .dataframe tbody tr th {\n        vertical-align: top;\n    }\n\n    .dataframe thead th {\n        text-align: right;\n    }\n</style>\n<table border=\"1\" class=\"dataframe\">\n  <thead>\n    <tr style=\"text-align: right;\">\n      <th></th>\n      <th>id</th>\n      <th>Set Name</th>\n      <th>Set Year</th>\n      <th>Theme Name</th>\n    </tr>\n  </thead>\n  <tbody>\n    <tr>\n      <th>1530</th>\n      <td>371</td>\n      <td>Single 2 x 4 Brick (ABB)</td>\n      <td>1950</td>\n      <td>Supplemental</td>\n    </tr>\n    <tr>\n      <th>1531</th>\n      <td>371</td>\n      <td>Single 2 x 2 Brick (ABB)</td>\n      <td>1950</td>\n      <td>Supplemental</td>\n    </tr>\n    <tr>\n      <th>1540</th>\n      <td>371</td>\n      <td>Single 1 x 4 x 2 Window without Glass (ABB)</td>\n      <td>1950</td>\n      <td>Supplemental</td>\n    </tr>\n    <tr>\n      <th>1541</th>\n      <td>371</td>\n      <td>Single 1 x 2 x 3 Window without Glass (ABB)</td>\n      <td>1950</td>\n      <td>Supplemental</td>\n    </tr>\n    <tr>\n      <th>1542</th>\n      <td>371</td>\n      <td>Single 1 x 2 x 2 Window without Glass (ABB)</td>\n      <td>1950</td>\n      <td>Supplemental</td>\n    </tr>\n    <tr>\n      <th>1543</th>\n      <td>371</td>\n      <td>Single 1 x 2 x 4 Door without Glass (ABB)</td>\n      <td>1950</td>\n      <td>Supplemental</td>\n    </tr>\n  </tbody>\n</table>\n</div>"
     },
     "metadata": {},
     "execution_count": 59
    }
   ],
   "source": [
    "clean_join_2020.loc[clean_join_2020[\"Set Year\"]==1950]"
   ]
  },
  {
   "cell_type": "code",
   "execution_count": 65,
   "metadata": {},
   "outputs": [
    {
     "output_type": "execute_result",
     "data": {
      "text/plain": [
       "    id                        Set Name  Set Year Theme Name  Inventory ID\n",
       "0  1.0                           Gears      1965    Technic           NaN\n",
       "1  1.0  4.5V Samsonite Gears Motor Set      1965    Technic           NaN\n",
       "2  1.0  TECHNIC I: Simple Machines Set      1985    Technic           NaN\n",
       "3  1.0              ERBIE the Robo-Car      1985    Technic           NaN\n",
       "4  1.0            Manual Control Set 1      1986    Technic           NaN"
      ],
      "text/html": "<div>\n<style scoped>\n    .dataframe tbody tr th:only-of-type {\n        vertical-align: middle;\n    }\n\n    .dataframe tbody tr th {\n        vertical-align: top;\n    }\n\n    .dataframe thead th {\n        text-align: right;\n    }\n</style>\n<table border=\"1\" class=\"dataframe\">\n  <thead>\n    <tr style=\"text-align: right;\">\n      <th></th>\n      <th>id</th>\n      <th>Set Name</th>\n      <th>Set Year</th>\n      <th>Theme Name</th>\n      <th>Inventory ID</th>\n    </tr>\n  </thead>\n  <tbody>\n    <tr>\n      <th>0</th>\n      <td>1.0</td>\n      <td>Gears</td>\n      <td>1965</td>\n      <td>Technic</td>\n      <td>NaN</td>\n    </tr>\n    <tr>\n      <th>1</th>\n      <td>1.0</td>\n      <td>4.5V Samsonite Gears Motor Set</td>\n      <td>1965</td>\n      <td>Technic</td>\n      <td>NaN</td>\n    </tr>\n    <tr>\n      <th>2</th>\n      <td>1.0</td>\n      <td>TECHNIC I: Simple Machines Set</td>\n      <td>1985</td>\n      <td>Technic</td>\n      <td>NaN</td>\n    </tr>\n    <tr>\n      <th>3</th>\n      <td>1.0</td>\n      <td>ERBIE the Robo-Car</td>\n      <td>1985</td>\n      <td>Technic</td>\n      <td>NaN</td>\n    </tr>\n    <tr>\n      <th>4</th>\n      <td>1.0</td>\n      <td>Manual Control Set 1</td>\n      <td>1986</td>\n      <td>Technic</td>\n      <td>NaN</td>\n    </tr>\n  </tbody>\n</table>\n</div>"
     },
     "metadata": {},
     "execution_count": 65
    }
   ],
   "source": [
    "result = clean_join_2020.append([sets_1950_])\n",
    "result.head()"
   ]
  },
  {
   "cell_type": "code",
   "execution_count": null,
   "metadata": {},
   "outputs": [],
   "source": [
    "legos.rename(columns={\"Set Name_x\" :\"Theme Name\"},inplace=True)"
   ]
  },
  {
   "cell_type": "code",
   "execution_count": 66,
   "metadata": {},
   "outputs": [
    {
     "output_type": "execute_result",
     "data": {
      "text/plain": [
       "    id                        Set Name  Set Year Theme Name\n",
       "0  1.0                           Gears      1965    Technic\n",
       "1  1.0  4.5V Samsonite Gears Motor Set      1965    Technic\n",
       "2  1.0  TECHNIC I: Simple Machines Set      1985    Technic\n",
       "3  1.0              ERBIE the Robo-Car      1985    Technic\n",
       "4  1.0            Manual Control Set 1      1986    Technic"
      ],
      "text/html": "<div>\n<style scoped>\n    .dataframe tbody tr th:only-of-type {\n        vertical-align: middle;\n    }\n\n    .dataframe tbody tr th {\n        vertical-align: top;\n    }\n\n    .dataframe thead th {\n        text-align: right;\n    }\n</style>\n<table border=\"1\" class=\"dataframe\">\n  <thead>\n    <tr style=\"text-align: right;\">\n      <th></th>\n      <th>id</th>\n      <th>Set Name</th>\n      <th>Set Year</th>\n      <th>Theme Name</th>\n    </tr>\n  </thead>\n  <tbody>\n    <tr>\n      <th>0</th>\n      <td>1.0</td>\n      <td>Gears</td>\n      <td>1965</td>\n      <td>Technic</td>\n    </tr>\n    <tr>\n      <th>1</th>\n      <td>1.0</td>\n      <td>4.5V Samsonite Gears Motor Set</td>\n      <td>1965</td>\n      <td>Technic</td>\n    </tr>\n    <tr>\n      <th>2</th>\n      <td>1.0</td>\n      <td>TECHNIC I: Simple Machines Set</td>\n      <td>1985</td>\n      <td>Technic</td>\n    </tr>\n    <tr>\n      <th>3</th>\n      <td>1.0</td>\n      <td>ERBIE the Robo-Car</td>\n      <td>1985</td>\n      <td>Technic</td>\n    </tr>\n    <tr>\n      <th>4</th>\n      <td>1.0</td>\n      <td>Manual Control Set 1</td>\n      <td>1986</td>\n      <td>Technic</td>\n    </tr>\n  </tbody>\n</table>\n</div>"
     },
     "metadata": {},
     "execution_count": 66
    }
   ],
   "source": [
    "clean_lego = result[['id','Set Name', 'Set Year','Theme Name']].copy()\n",
    "clean_lego.head()"
   ]
  },
  {
   "cell_type": "code",
   "execution_count": 80,
   "metadata": {},
   "outputs": [
    {
     "output_type": "execute_result",
     "data": {
      "text/plain": [
       "         id                                     Set Name  Set Year  \\\n",
       "1530  371.0                     Single 2 x 4 Brick (ABB)      1950   \n",
       "1531  371.0                     Single 2 x 2 Brick (ABB)      1950   \n",
       "1540  371.0  Single 1 x 4 x 2 Window without Glass (ABB)      1950   \n",
       "1541  371.0  Single 1 x 2 x 3 Window without Glass (ABB)      1950   \n",
       "1542  371.0  Single 1 x 2 x 2 Window without Glass (ABB)      1950   \n",
       "\n",
       "        Theme Name  \n",
       "1530  Supplemental  \n",
       "1531  Supplemental  \n",
       "1540  Supplemental  \n",
       "1541  Supplemental  \n",
       "1542  Supplemental  "
      ],
      "text/html": "<div>\n<style scoped>\n    .dataframe tbody tr th:only-of-type {\n        vertical-align: middle;\n    }\n\n    .dataframe tbody tr th {\n        vertical-align: top;\n    }\n\n    .dataframe thead th {\n        text-align: right;\n    }\n</style>\n<table border=\"1\" class=\"dataframe\">\n  <thead>\n    <tr style=\"text-align: right;\">\n      <th></th>\n      <th>id</th>\n      <th>Set Name</th>\n      <th>Set Year</th>\n      <th>Theme Name</th>\n    </tr>\n  </thead>\n  <tbody>\n    <tr>\n      <th>1530</th>\n      <td>371.0</td>\n      <td>Single 2 x 4 Brick (ABB)</td>\n      <td>1950</td>\n      <td>Supplemental</td>\n    </tr>\n    <tr>\n      <th>1531</th>\n      <td>371.0</td>\n      <td>Single 2 x 2 Brick (ABB)</td>\n      <td>1950</td>\n      <td>Supplemental</td>\n    </tr>\n    <tr>\n      <th>1540</th>\n      <td>371.0</td>\n      <td>Single 1 x 4 x 2 Window without Glass (ABB)</td>\n      <td>1950</td>\n      <td>Supplemental</td>\n    </tr>\n    <tr>\n      <th>1541</th>\n      <td>371.0</td>\n      <td>Single 1 x 2 x 3 Window without Glass (ABB)</td>\n      <td>1950</td>\n      <td>Supplemental</td>\n    </tr>\n    <tr>\n      <th>1542</th>\n      <td>371.0</td>\n      <td>Single 1 x 2 x 2 Window without Glass (ABB)</td>\n      <td>1950</td>\n      <td>Supplemental</td>\n    </tr>\n  </tbody>\n</table>\n</div>"
     },
     "metadata": {},
     "execution_count": 80
    }
   ],
   "source": [
    "lego_1950=clean_lego.loc[clean_lego[\"Set Year\"]==1950]\n",
    "lego_1950.head()"
   ]
  },
  {
   "cell_type": "code",
   "execution_count": 81,
   "metadata": {},
   "outputs": [
    {
     "output_type": "execute_result",
     "data": {
      "text/plain": [
       "     id           Set Name  Set Year Theme Name\n",
       "70  1.0              Buggy      2020    Technic\n",
       "71  1.0  Mini CLAAS XERION      2020    Technic\n",
       "72  1.0           Dragster      2020    Technic\n",
       "73  1.0         Race Truck      2020    Technic\n",
       "74  1.0          Catamaran      2020    Technic"
      ],
      "text/html": "<div>\n<style scoped>\n    .dataframe tbody tr th:only-of-type {\n        vertical-align: middle;\n    }\n\n    .dataframe tbody tr th {\n        vertical-align: top;\n    }\n\n    .dataframe thead th {\n        text-align: right;\n    }\n</style>\n<table border=\"1\" class=\"dataframe\">\n  <thead>\n    <tr style=\"text-align: right;\">\n      <th></th>\n      <th>id</th>\n      <th>Set Name</th>\n      <th>Set Year</th>\n      <th>Theme Name</th>\n    </tr>\n  </thead>\n  <tbody>\n    <tr>\n      <th>70</th>\n      <td>1.0</td>\n      <td>Buggy</td>\n      <td>2020</td>\n      <td>Technic</td>\n    </tr>\n    <tr>\n      <th>71</th>\n      <td>1.0</td>\n      <td>Mini CLAAS XERION</td>\n      <td>2020</td>\n      <td>Technic</td>\n    </tr>\n    <tr>\n      <th>72</th>\n      <td>1.0</td>\n      <td>Dragster</td>\n      <td>2020</td>\n      <td>Technic</td>\n    </tr>\n    <tr>\n      <th>73</th>\n      <td>1.0</td>\n      <td>Race Truck</td>\n      <td>2020</td>\n      <td>Technic</td>\n    </tr>\n    <tr>\n      <th>74</th>\n      <td>1.0</td>\n      <td>Catamaran</td>\n      <td>2020</td>\n      <td>Technic</td>\n    </tr>\n  </tbody>\n</table>\n</div>"
     },
     "metadata": {},
     "execution_count": 81
    }
   ],
   "source": [
    "lego_2020=clean_lego.loc[clean_lego[\"Set Year\"]==2020]\n",
    "lego_2020.head()"
   ]
  },
  {
   "cell_type": "code",
   "execution_count": null,
   "metadata": {},
   "outputs": [],
   "source": []
  },
  {
   "cell_type": "code",
   "execution_count": 84,
   "metadata": {},
   "outputs": [
    {
     "output_type": "execute_result",
     "data": {
      "text/plain": [
       "     id           Set Name  Set Year Theme Name\n",
       "70  1.0              Buggy      2020    Technic\n",
       "71  1.0  Mini CLAAS XERION      2020    Technic\n",
       "72  1.0           Dragster      2020    Technic\n",
       "73  1.0         Race Truck      2020    Technic\n",
       "74  1.0          Catamaran      2020    Technic"
      ],
      "text/html": "<div>\n<style scoped>\n    .dataframe tbody tr th:only-of-type {\n        vertical-align: middle;\n    }\n\n    .dataframe tbody tr th {\n        vertical-align: top;\n    }\n\n    .dataframe thead th {\n        text-align: right;\n    }\n</style>\n<table border=\"1\" class=\"dataframe\">\n  <thead>\n    <tr style=\"text-align: right;\">\n      <th></th>\n      <th>id</th>\n      <th>Set Name</th>\n      <th>Set Year</th>\n      <th>Theme Name</th>\n    </tr>\n  </thead>\n  <tbody>\n    <tr>\n      <th>70</th>\n      <td>1.0</td>\n      <td>Buggy</td>\n      <td>2020</td>\n      <td>Technic</td>\n    </tr>\n    <tr>\n      <th>71</th>\n      <td>1.0</td>\n      <td>Mini CLAAS XERION</td>\n      <td>2020</td>\n      <td>Technic</td>\n    </tr>\n    <tr>\n      <th>72</th>\n      <td>1.0</td>\n      <td>Dragster</td>\n      <td>2020</td>\n      <td>Technic</td>\n    </tr>\n    <tr>\n      <th>73</th>\n      <td>1.0</td>\n      <td>Race Truck</td>\n      <td>2020</td>\n      <td>Technic</td>\n    </tr>\n    <tr>\n      <th>74</th>\n      <td>1.0</td>\n      <td>Catamaran</td>\n      <td>2020</td>\n      <td>Technic</td>\n    </tr>\n  </tbody>\n</table>\n</div>"
     },
     "metadata": {},
     "execution_count": 84
    }
   ],
   "source": [
    "result_c = lego_2020.append([lego_1950])\n",
    "result_c.head()"
   ]
  },
  {
   "cell_type": "code",
   "execution_count": 85,
   "metadata": {},
   "outputs": [],
   "source": [
    "rds_connection_string = \"postgres:1055@localhost:5432/Lego\"\n",
    "engine = create_engine(f'postgresql://{rds_connection_string}')"
   ]
  },
  {
   "cell_type": "code",
   "execution_count": 86,
   "metadata": {},
   "outputs": [
    {
     "output_type": "execute_result",
     "data": {
      "text/plain": [
       "['sets__2020_csv', 'thems_2020_csv', 'sets_1950_csv']"
      ]
     },
     "metadata": {},
     "execution_count": 86
    }
   ],
   "source": [
    "engine.table_names()"
   ]
  },
  {
   "cell_type": "code",
   "execution_count": 89,
   "metadata": {},
   "outputs": [],
   "source": [
    "result_c.to_sql(name='result_c', con=engine, if_exists='append', index=False)"
   ]
  },
  {
   "cell_type": "code",
   "execution_count": 90,
   "metadata": {},
   "outputs": [
    {
     "output_type": "execute_result",
     "data": {
      "text/plain": [
       "    id           Set Name  Set Year Theme Name\n",
       "0  1.0              Buggy      2020    Technic\n",
       "1  1.0  Mini CLAAS XERION      2020    Technic\n",
       "2  1.0           Dragster      2020    Technic\n",
       "3  1.0         Race Truck      2020    Technic\n",
       "4  1.0          Catamaran      2020    Technic"
      ],
      "text/html": "<div>\n<style scoped>\n    .dataframe tbody tr th:only-of-type {\n        vertical-align: middle;\n    }\n\n    .dataframe tbody tr th {\n        vertical-align: top;\n    }\n\n    .dataframe thead th {\n        text-align: right;\n    }\n</style>\n<table border=\"1\" class=\"dataframe\">\n  <thead>\n    <tr style=\"text-align: right;\">\n      <th></th>\n      <th>id</th>\n      <th>Set Name</th>\n      <th>Set Year</th>\n      <th>Theme Name</th>\n    </tr>\n  </thead>\n  <tbody>\n    <tr>\n      <th>0</th>\n      <td>1.0</td>\n      <td>Buggy</td>\n      <td>2020</td>\n      <td>Technic</td>\n    </tr>\n    <tr>\n      <th>1</th>\n      <td>1.0</td>\n      <td>Mini CLAAS XERION</td>\n      <td>2020</td>\n      <td>Technic</td>\n    </tr>\n    <tr>\n      <th>2</th>\n      <td>1.0</td>\n      <td>Dragster</td>\n      <td>2020</td>\n      <td>Technic</td>\n    </tr>\n    <tr>\n      <th>3</th>\n      <td>1.0</td>\n      <td>Race Truck</td>\n      <td>2020</td>\n      <td>Technic</td>\n    </tr>\n    <tr>\n      <th>4</th>\n      <td>1.0</td>\n      <td>Catamaran</td>\n      <td>2020</td>\n      <td>Technic</td>\n    </tr>\n  </tbody>\n</table>\n</div>"
     },
     "metadata": {},
     "execution_count": 90
    }
   ],
   "source": [
    "pd.read_sql_query('select * from result_c', con=engine).head()"
   ]
  },
  {
   "cell_type": "code",
   "execution_count": null,
   "metadata": {},
   "outputs": [],
   "source": []
  }
 ]
}